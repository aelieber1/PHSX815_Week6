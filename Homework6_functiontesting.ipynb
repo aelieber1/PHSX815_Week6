{
 "cells": [
  {
   "cell_type": "markdown",
   "id": "da33ade3-ecce-4237-ac20-0e561d2bae46",
   "metadata": {},
   "source": [
    "## Purpose of this Jupyter notebook is to test functions/ideas for main homework file"
   ]
  },
  {
   "cell_type": "code",
   "execution_count": 9,
   "id": "60b8d751-631b-46f1-ba04-3e7579cfce9a",
   "metadata": {},
   "outputs": [
    {
     "name": "stdout",
     "output_type": "stream",
     "text": [
      "Integral of 4xe^-x from x=1 to x=5\n",
      "Result is  2.941037932461989 with error  1.336789646057913e-13\n"
     ]
    }
   ],
   "source": [
    "# Import necessary functions\n",
    "import scipy.integrate as spi\n",
    "import numpy as np\n",
    "\n",
    "\n",
    "\"\"\" \n",
    "Function definition on a closed interval that is not a low order polynomial, but whose integral can still be calculated analytically \n",
    "\n",
    "Credit: utilizes code from this integrals in python website: url: https://computationalmindset.com/en/mathematics/integral-calculus-in-python.html\n",
    "\"\"\"\n",
    "\n",
    "print('Integral of 4xe^-x from x=1 to x=5')\n",
    "\n",
    "# integral definition\n",
    "def f(x):\n",
    "    return 4 * x * np.exp(-x)\n",
    "a = 1. # lower bound\n",
    "b = 10 # upper bound\n",
    "\n",
    "# calculation of the integral analytically using scipy\n",
    "result, error = spi.quad(f, a, b)\n",
    "print('Result is ', result, 'with error ', error)"
   ]
  },
  {
   "cell_type": "code",
   "execution_count": null,
   "id": "3928c020-26a6-4dad-93cb-a7dd73853777",
   "metadata": {},
   "outputs": [],
   "source": []
  },
  {
   "cell_type": "code",
   "execution_count": 19,
   "id": "1f7d5d17-b1ca-4740-a109-87fff3534c9b",
   "metadata": {},
   "outputs": [
    {
     "ename": "TypeError",
     "evalue": "cannot unpack non-iterable numpy.float64 object",
     "output_type": "error",
     "traceback": [
      "\u001b[0;31m---------------------------------------------------------------------------\u001b[0m",
      "\u001b[0;31mTypeError\u001b[0m                                 Traceback (most recent call last)",
      "\u001b[0;32m/var/folders/m_/6w36s5f17kl3wrv42q59syqr0000gq/T/ipykernel_97949/935280266.py\u001b[0m in \u001b[0;36m<module>\u001b[0;34m\u001b[0m\n\u001b[1;32m      7\u001b[0m \u001b[0;34m\u001b[0m\u001b[0m\n\u001b[1;32m      8\u001b[0m \u001b[0;31m# call quad to integrate f from -2 to 2\u001b[0m\u001b[0;34m\u001b[0m\u001b[0;34m\u001b[0m\u001b[0m\n\u001b[0;32m----> 9\u001b[0;31m \u001b[0mres\u001b[0m\u001b[0;34m,\u001b[0m \u001b[0merr\u001b[0m \u001b[0;34m=\u001b[0m \u001b[0mromberg\u001b[0m\u001b[0;34m(\u001b[0m\u001b[0mf\u001b[0m\u001b[0;34m,\u001b[0m \u001b[0;36m1\u001b[0m\u001b[0;34m,\u001b[0m \u001b[0;36m5\u001b[0m\u001b[0;34m)\u001b[0m\u001b[0;34m\u001b[0m\u001b[0;34m\u001b[0m\u001b[0m\n\u001b[0m\u001b[1;32m     10\u001b[0m \u001b[0;34m\u001b[0m\u001b[0m\n\u001b[1;32m     11\u001b[0m print(\"The numerical result is {:f} (+-{:g})\"\n",
      "\u001b[0;31mTypeError\u001b[0m: cannot unpack non-iterable numpy.float64 object"
     ]
    }
   ],
   "source": [
    "from math import cos, exp, pi\n",
    "from scipy.integrate import romberg\n",
    "\n",
    "# function we want to integrate\n",
    "def f(x):\n",
    "    return 4 * x * np.exp(-x)\n",
    "\n",
    "# call quad to integrate f from -2 to 2\n",
    "res, err = romberg(f, 1, 5)\n",
    "\n",
    "print(\"The numerical result is {:f} (+-{:g})\"\n",
    "    .format(res, err))\n"
   ]
  },
  {
   "cell_type": "code",
   "execution_count": null,
   "id": "af1c65f3-d289-46c0-af50-48097ddb4767",
   "metadata": {},
   "outputs": [],
   "source": [
    "\n"
   ]
  },
  {
   "cell_type": "code",
   "execution_count": 18,
   "id": "c97ecb1e-9c8a-4a04-879c-c943e42bd12a",
   "metadata": {},
   "outputs": [
    {
     "name": "stdout",
     "output_type": "stream",
     "text": [
      "Analytical Calculation of Integral of 4xe^-x from x=1 to x=10:  3.998002403090451\n"
     ]
    },
    {
     "data": {
      "image/png": "[encoded data removed]",
      "text/plain": [
       "<Figure size 640x480 with 1 Axes>"
      ]
     },
     "metadata": {},
     "output_type": "display_data"
    }
   ],
   "source": [
    "\n",
    "# Import necessary functions\n",
    "import scipy.integrate as spi\n",
    "import numpy as np\n",
    "import matplotlib.pyplot as plt\n",
    "\n",
    "\n",
    "\"\"\" \n",
    "Function definition on a closed interval that is not a low order polynomial, but whose integral can still be calculated analytically \n",
    "\n",
    "Credit: \n",
    "- utilizes code from this integrals in python website: \n",
    "https://computationalmindset.com/en/mathematics/integral-calculus-in-python.html\n",
    "- scipy.integrate documentation: \n",
    "https://docs.scipy.org/doc/scipy/tutorial/integrate.html\n",
    "\"\"\"\n",
    "\n",
    "# Analytical calculation of integral\n",
    "def f(x):\n",
    "    return 4 * x * np.exp(-x)\n",
    "\n",
    "def f_prime(x):\n",
    "    return 4 * (-x - 1) * np.exp(-x)\n",
    "\n",
    "a = 0. # lower bound\n",
    "b = 10 # upper bound\n",
    "\n",
    "# Evaluate integral\n",
    "upper_calc = f_prime(b)\n",
    "lower_calc = f_prime(a)\n",
    "analyt_int = upper_calc - lower_calc \n",
    "\n",
    "print('Analytical Calculation of Integral of 4xe^-x from x=1 to x=10: ', analyt_int)\n",
    "\n",
    "# plot function\n",
    "x = np.linspace(0, 11, 100)\n",
    "plt.plot(x, f(x), color='red')\n",
    "plt.show()\n"
   ]
  },
  {
   "cell_type": "code",
   "execution_count": 21,
   "id": "1b7a7f60-f60b-449c-8024-e4ff5a985eaf",
   "metadata": {},
   "outputs": [
    {
     "name": "stdout",
     "output_type": "stream",
     "text": [
      "Single integral computed by SciPy romberg\n",
      "Example 1-01 romberg\n",
      "Integral of 2xe^-x from x=1 to x=5\n",
      "Result is  2.781324801393479\n"
     ]
    }
   ],
   "source": [
    "print('Single integral computed by SciPy romberg')\n",
    "print('Example 1-01 romberg')\n",
    "print('Integral of 2xe^-x from x=1 to x=5')\n",
    "\n",
    "integrand = lambda x : 4 * x * np.exp(-x)\n",
    "a = 1.\n",
    "b = 5.\n",
    "integrand = lambda x : 4 * x * np.exp(-x)\n",
    "result = spi.romberg(integrand, a, b)\n",
    "print('Result is ', result)"
   ]
  },
  {
   "cell_type": "code",
   "execution_count": 22,
   "id": "5c2937bb-0441-48c5-af18-77bd0711452b",
   "metadata": {},
   "outputs": [
    {
     "data": {
      "text/plain": [
       "2.781324801393479"
      ]
     },
     "execution_count": 22,
     "metadata": {},
     "output_type": "execute_result"
    }
   ],
   "source": [
    "result"
   ]
  },
  {
   "cell_type": "code",
   "execution_count": 24,
   "id": "642544e1-201d-4b64-8e7c-079a66bde121",
   "metadata": {},
   "outputs": [
    {
     "name": "stdout",
     "output_type": "stream",
     "text": [
      "Romberg integration of <function vectorize1.<locals>.vfunc at 0x7fdf604ab0d0> from [0, 10]\n",
      "\n",
      " Steps  StepSize   Results\n",
      "     1 10.000000  0.009080 \n",
      "     2  5.000000  0.678335  0.901420 \n",
      "     4  2.500000  2.432774  3.017587  3.158664 \n",
      "     8  1.250000  3.515259  3.876087  3.933321  3.945617 \n",
      "    16  0.625000  3.870245  3.988574  3.996073  3.997069  3.997271 \n",
      "    32  0.312500  3.965595  3.997379  3.997966  3.997996  3.997999  3.998000 \n",
      "    64  0.156250  3.989871  3.997963  3.998002  3.998002  3.998002  3.998002  3.998002 \n",
      "   128  0.078125  3.995968  3.998000  3.998002  3.998002  3.998002  3.998002  3.998002  3.998002 \n",
      "\n",
      "The final result is 3.9980024030901182 after 129 function evaluations.\n",
      "3.9980024030901182\n"
     ]
    }
   ],
   "source": [
    "import numpy as np\n",
    "from scipy import integrate\n",
    "gfg = lambda x: 4 * x * np.exp(-x)\n",
    "  \n",
    "# using scipy.integrate.romberg()\n",
    "geek = integrate.romberg(gfg, 0, 10, show = True)\n",
    "  \n",
    "print(geek)"
   ]
  },
  {
   "cell_type": "code",
   "execution_count": null,
   "id": "2c9c5419-7d60-40b0-ae0a-e46dfc778a98",
   "metadata": {},
   "outputs": [],
   "source": []
  }
 ],
 "metadata": {
  "kernelspec": {
   "display_name": "Python 3 (ipykernel)",
   "language": "python",
   "name": "python3"
  },
  "language_info": {
   "codemirror_mode": {
    "name": "ipython",
    "version": 3
   },
   "file_extension": ".py",
   "mimetype": "text/x-python",
   "name": "python",
   "nbconvert_exporter": "python",
   "pygments_lexer": "ipython3",
   "version": "3.9.13"
  }
 },
 "nbformat": 4,
 "nbformat_minor": 5
}
