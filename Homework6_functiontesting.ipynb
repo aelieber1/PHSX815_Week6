{
 "cells": [
  {
   "cell_type": "code",
   "execution_count": 3,
   "id": "60b8d751-631b-46f1-ba04-3e7579cfce9a",
   "metadata": {},
   "outputs": [
    {
     "name": "stdout",
     "output_type": "stream",
     "text": [
      "Integral of 4xe^-x from x=1 to x=5\n",
      "Result is  2.7813248013934873 with error  3.08789083346804e-14\n"
     ]
    }
   ],
   "source": [
    "# Import necessary functions\n",
    "import scipy.integrate as spi\n",
    "import numpy as np\n",
    "\n",
    "\n",
    "\"\"\" \n",
    "Function definition on a closed interval that is not a low order polynomial, but whose integral can still be calculated analytically \n",
    "\n",
    "Credit: utilizes code from this integrals in python website: url: https://computationalmindset.com/en/mathematics/integral-calculus-in-python.html\n",
    "\"\"\"\n",
    "\n",
    "print('Integral of 4xe^-x from x=1 to x=5')\n",
    "\n",
    "# integral definition\n",
    "integrand = lambda x : 4 * x * np.exp(-x)\n",
    "a = 1. # lower bound\n",
    "b = 5. # upper bound\n",
    "\n",
    "# calculation of the integral analytically using scipy\n",
    "result, error = spi.quad(integrand, a, b)\n",
    "print('Result is ', result, 'with error ', error)"
   ]
  },
  {
   "cell_type": "code",
   "execution_count": null,
   "id": "1f7d5d17-b1ca-4740-a109-87fff3534c9b",
   "metadata": {},
   "outputs": [],
   "source": []
  }
 ],
 "metadata": {
  "kernelspec": {
   "display_name": "Python 3 (ipykernel)",
   "language": "python",
   "name": "python3"
  },
  "language_info": {
   "codemirror_mode": {
    "name": "ipython",
    "version": 3
   },
   "file_extension": ".py",
   "mimetype": "text/x-python",
   "name": "python",
   "nbconvert_exporter": "python",
   "pygments_lexer": "ipython3",
   "version": "3.9.13"
  }
 },
 "nbformat": 4,
 "nbformat_minor": 5
}
