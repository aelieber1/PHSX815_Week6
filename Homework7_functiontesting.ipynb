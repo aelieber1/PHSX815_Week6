{
 "cells": [
  {
   "cell_type": "code",
   "execution_count": 13,
   "id": "e04cb9d3-6ee5-4de6-b49c-99f6f79ff91d",
   "metadata": {},
   "outputs": [
    {
     "name": "stdout",
     "output_type": "stream",
     "text": [
      "The value calculated by monte carlo integration is 2.0030223905972284.\n"
     ]
    }
   ],
   "source": [
    "\"\"\"Monte Carlo Geeks for Geeks Tutorial\"\"\"\n",
    "# importing the modules\n",
    "import random\n",
    "import numpy as np\n",
    "  \n",
    "# limits of integration\n",
    "a = 0\n",
    "b = np.pi # gets the value of pi\n",
    "N = 1000\n",
    "  \n",
    "# array of zeros of length N\n",
    "ar = np.zeros(N)\n",
    "  \n",
    "# iterating over each Value of ar and filling \n",
    "# it with a random value between the limits a\n",
    "# and b\n",
    "for i in range (len(ar)):\n",
    "    ar[i] = random.uniform(a,b)\n",
    "  \n",
    "# variable to store sum of the functions of \n",
    "# different values of x\n",
    "integral = 0.0\n",
    "  \n",
    "# function to calculate the sin of a particular\n",
    "# value of x\n",
    "def f(x):\n",
    "    return np.sin(x)\n",
    "\n",
    "# iterates and sums up values of different functions\n",
    "# of x\n",
    "for i in ar:\n",
    "    integral += f(i)\n",
    "  \n",
    "# we get the answer by the formula derived adobe\n",
    "ans = (b-a)/float(N)*integral\n",
    "  \n",
    "# prints the solution\n",
    "print (\"The value calculated by monte carlo integration is {}.\".format(ans))"
   ]
  },
  {
   "cell_type": "code",
   "execution_count": null,
   "id": "8b027fb6-6875-4ce1-84ee-4298b76f81a5",
   "metadata": {},
   "outputs": [],
   "source": []
  },
  {
   "cell_type": "code",
   "execution_count": null,
   "id": "a7db32f6-8d3c-4ecf-ac68-f8bd7d3fc873",
   "metadata": {},
   "outputs": [],
   "source": []
  },
  {
   "cell_type": "code",
   "execution_count": 16,
   "id": "155c2fe9-3266-4c8b-b70c-0aae10cf482e",
   "metadata": {},
   "outputs": [
    {
     "data": {
      "image/png": "[encoded data removed]",
      "text/plain": [
       "<Figure size 640x480 with 1 Axes>"
      ]
     },
     "metadata": {},
     "output_type": "display_data"
    }
   ],
   "source": [
    "# importing the modules\n",
    "import random\n",
    "import numpy as np\n",
    "import matplotlib.pyplot as plt\n",
    "  \n",
    "# limits of integration\n",
    "a = 0 # lower limit\n",
    "b = 1 # upper limit\n",
    "N = 1000 # Total number of sub-intervals\n",
    "  \n",
    "# function definition\n",
    "def f(x):\n",
    "    return np.sin(x)\n",
    "  \n",
    "# list to store all the values for plotting \n",
    "plt_vals = []\n",
    "  \n",
    "# we iterate through all the values to generate \n",
    "# multiple results and show whose intensity is \n",
    "# the most.\n",
    "for i in range(N):\n",
    "    \n",
    "    #array of zeros of length N\n",
    "    ar = np.zeros(N)\n",
    "  \n",
    "    # iterating over each Value of ar and filling it\n",
    "    # with a random value between the limits a and b\n",
    "    for i in range (len(ar)):\n",
    "        ar[i] = random.uniform(a,b)\n",
    "  \n",
    "    # variable to store sum of the functions of different\n",
    "    # values of x\n",
    "    integral = 0.0\n",
    "  \n",
    "    # iterates and sums up values of different functions \n",
    "    # of x\n",
    "    for i in ar:\n",
    "        integral += f(i)\n",
    "  \n",
    "    # we get the answer by the formula derived adobe\n",
    "    ans = (b-a)/float(N)*integral\n",
    "  \n",
    "    # appends the solution to a list for plotting the graph\n",
    "    plt_vals.append(ans)\n",
    "  \n",
    "# details of the plot to be generated\n",
    "# sets the title of the plot \n",
    "plt.title(\"Distributions of areas calculated\")\n",
    "  \n",
    "# 3 parameters (array on which histogram needs \n",
    "plt.hist (plt_vals, bins=30, ec=\"black\") \n",
    "  \n",
    "# to be made, bins, separators colour between the\n",
    "# beams)\n",
    "# sets the label of the x-axis of the plot\n",
    "plt.xlabel(\"Areas\")\n",
    "plt.show() # shows the plot"
   ]
  },
  {
   "cell_type": "code",
   "execution_count": null,
   "id": "76f33e73-37f2-42f4-9023-7523022ec7e9",
   "metadata": {},
   "outputs": [],
   "source": []
  }
 ],
 "metadata": {
  "kernelspec": {
   "display_name": "Python 3 (ipykernel)",
   "language": "python",
   "name": "python3"
  },
  "language_info": {
   "codemirror_mode": {
    "name": "ipython",
    "version": 3
   },
   "file_extension": ".py",
   "mimetype": "text/x-python",
   "name": "python",
   "nbconvert_exporter": "python",
   "pygments_lexer": "ipython3",
   "version": "3.9.13"
  }
 },
 "nbformat": 4,
 "nbformat_minor": 5
}
